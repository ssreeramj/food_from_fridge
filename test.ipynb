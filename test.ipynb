{
 "cells": [
  {
   "cell_type": "code",
   "execution_count": 1,
   "metadata": {
    "id": "l7yjX7LN6ha6"
   },
   "outputs": [],
   "source": [
    "import numpy as np\n",
    "import pandas as pd\n",
    "\n",
    "from sklearn.metrics.pairwise import cosine_similarity"
   ]
  },
  {
   "cell_type": "code",
   "execution_count": 2,
   "metadata": {
    "id": "7zhfD7Aa3Je6"
   },
   "outputs": [
    {
     "data": {
      "text/html": [
       "<div>\n",
       "<style scoped>\n",
       "    .dataframe tbody tr th:only-of-type {\n",
       "        vertical-align: middle;\n",
       "    }\n",
       "\n",
       "    .dataframe tbody tr th {\n",
       "        vertical-align: top;\n",
       "    }\n",
       "\n",
       "    .dataframe thead th {\n",
       "        text-align: right;\n",
       "    }\n",
       "</style>\n",
       "<table border=\"1\" class=\"dataframe\">\n",
       "  <thead>\n",
       "    <tr style=\"text-align: right;\">\n",
       "      <th></th>\n",
       "      <th>name</th>\n",
       "      <th>ingredients</th>\n",
       "    </tr>\n",
       "  </thead>\n",
       "  <tbody>\n",
       "    <tr>\n",
       "      <th>0</th>\n",
       "      <td>Balu shahi</td>\n",
       "      <td>Maida flour, yogurt, oil, sugar</td>\n",
       "    </tr>\n",
       "    <tr>\n",
       "      <th>1</th>\n",
       "      <td>Boondi</td>\n",
       "      <td>Gram flour, ghee, sugar</td>\n",
       "    </tr>\n",
       "    <tr>\n",
       "      <th>2</th>\n",
       "      <td>Gajar ka halwa</td>\n",
       "      <td>Carrots, milk, sugar, ghee, cashews, raisins</td>\n",
       "    </tr>\n",
       "    <tr>\n",
       "      <th>3</th>\n",
       "      <td>Ghevar</td>\n",
       "      <td>Flour, ghee, kewra, milk, clarified butter, su...</td>\n",
       "    </tr>\n",
       "    <tr>\n",
       "      <th>4</th>\n",
       "      <td>Gulab jamun</td>\n",
       "      <td>Milk powder, plain flour, baking powder, ghee,...</td>\n",
       "    </tr>\n",
       "  </tbody>\n",
       "</table>\n",
       "</div>"
      ],
      "text/plain": [
       "             name                                        ingredients\n",
       "0      Balu shahi                    Maida flour, yogurt, oil, sugar\n",
       "1          Boondi                            Gram flour, ghee, sugar\n",
       "2  Gajar ka halwa       Carrots, milk, sugar, ghee, cashews, raisins\n",
       "3          Ghevar  Flour, ghee, kewra, milk, clarified butter, su...\n",
       "4     Gulab jamun  Milk powder, plain flour, baking powder, ghee,..."
      ]
     },
     "execution_count": 2,
     "metadata": {},
     "output_type": "execute_result"
    }
   ],
   "source": [
    "df = pd.read_csv('food_250.csv', usecols=['name', 'ingredients'])\n",
    "df.head()"
   ]
  },
  {
   "cell_type": "code",
   "execution_count": 3,
   "metadata": {
    "id": "OxQtDhIP3-5-"
   },
   "outputs": [],
   "source": [
    "items = set()\n",
    "for x in df.ingredients:\n",
    "    for val in x.split(', '):\n",
    "        items.add(val.lower().strip())\n",
    "\n",
    "items = list(items)"
   ]
  },
  {
   "cell_type": "code",
   "execution_count": 4,
   "metadata": {},
   "outputs": [],
   "source": [
    "new_df = pd.DataFrame(data=np.zeros((255, 367), dtype=int), columns=['name', 'ingredients'] + items)"
   ]
  },
  {
   "cell_type": "code",
   "execution_count": 5,
   "metadata": {},
   "outputs": [],
   "source": [
    "for i, d in df.iterrows():\n",
    "    new_df.loc[i, ['name', 'ingredients']] = d[:2]\n",
    "\n",
    "    for val in d[1].split(', '):\n",
    "        item = val.lower().strip()\n",
    "        new_df.loc[i, item] = 1"
   ]
  },
  {
   "cell_type": "code",
   "execution_count": 6,
   "metadata": {},
   "outputs": [
    {
     "data": {
      "text/html": [
       "<div>\n",
       "<style scoped>\n",
       "    .dataframe tbody tr th:only-of-type {\n",
       "        vertical-align: middle;\n",
       "    }\n",
       "\n",
       "    .dataframe tbody tr th {\n",
       "        vertical-align: top;\n",
       "    }\n",
       "\n",
       "    .dataframe thead th {\n",
       "        text-align: right;\n",
       "    }\n",
       "</style>\n",
       "<table border=\"1\" class=\"dataframe\">\n",
       "  <thead>\n",
       "    <tr style=\"text-align: right;\">\n",
       "      <th></th>\n",
       "      <th>name</th>\n",
       "      <th>ingredients</th>\n",
       "      <th>turmeric</th>\n",
       "      <th>split urad dal</th>\n",
       "      <th>avocado oil</th>\n",
       "      <th>citric acid</th>\n",
       "      <th>green chili</th>\n",
       "      <th>chillies</th>\n",
       "      <th>khaman</th>\n",
       "      <th>chana daal</th>\n",
       "      <th>...</th>\n",
       "      <th>tomato</th>\n",
       "      <th>glutinous rice</th>\n",
       "      <th>chia seed</th>\n",
       "      <th>elachi</th>\n",
       "      <th>coconut flakes</th>\n",
       "      <th>sauce</th>\n",
       "      <th>litre milk</th>\n",
       "      <th>skimmed milk powder</th>\n",
       "      <th>rice</th>\n",
       "      <th>edible gum</th>\n",
       "    </tr>\n",
       "  </thead>\n",
       "  <tbody>\n",
       "    <tr>\n",
       "      <th>0</th>\n",
       "      <td>Balu shahi</td>\n",
       "      <td>Maida flour, yogurt, oil, sugar</td>\n",
       "      <td>0</td>\n",
       "      <td>0</td>\n",
       "      <td>0</td>\n",
       "      <td>0</td>\n",
       "      <td>0</td>\n",
       "      <td>0</td>\n",
       "      <td>0</td>\n",
       "      <td>0</td>\n",
       "      <td>...</td>\n",
       "      <td>0</td>\n",
       "      <td>0</td>\n",
       "      <td>0</td>\n",
       "      <td>0</td>\n",
       "      <td>0</td>\n",
       "      <td>0</td>\n",
       "      <td>0</td>\n",
       "      <td>0</td>\n",
       "      <td>0</td>\n",
       "      <td>0</td>\n",
       "    </tr>\n",
       "    <tr>\n",
       "      <th>1</th>\n",
       "      <td>Boondi</td>\n",
       "      <td>Gram flour, ghee, sugar</td>\n",
       "      <td>0</td>\n",
       "      <td>0</td>\n",
       "      <td>0</td>\n",
       "      <td>0</td>\n",
       "      <td>0</td>\n",
       "      <td>0</td>\n",
       "      <td>0</td>\n",
       "      <td>0</td>\n",
       "      <td>...</td>\n",
       "      <td>0</td>\n",
       "      <td>0</td>\n",
       "      <td>0</td>\n",
       "      <td>0</td>\n",
       "      <td>0</td>\n",
       "      <td>0</td>\n",
       "      <td>0</td>\n",
       "      <td>0</td>\n",
       "      <td>0</td>\n",
       "      <td>0</td>\n",
       "    </tr>\n",
       "    <tr>\n",
       "      <th>2</th>\n",
       "      <td>Gajar ka halwa</td>\n",
       "      <td>Carrots, milk, sugar, ghee, cashews, raisins</td>\n",
       "      <td>0</td>\n",
       "      <td>0</td>\n",
       "      <td>0</td>\n",
       "      <td>0</td>\n",
       "      <td>0</td>\n",
       "      <td>0</td>\n",
       "      <td>0</td>\n",
       "      <td>0</td>\n",
       "      <td>...</td>\n",
       "      <td>0</td>\n",
       "      <td>0</td>\n",
       "      <td>0</td>\n",
       "      <td>0</td>\n",
       "      <td>0</td>\n",
       "      <td>0</td>\n",
       "      <td>0</td>\n",
       "      <td>0</td>\n",
       "      <td>0</td>\n",
       "      <td>0</td>\n",
       "    </tr>\n",
       "    <tr>\n",
       "      <th>3</th>\n",
       "      <td>Ghevar</td>\n",
       "      <td>Flour, ghee, kewra, milk, clarified butter, su...</td>\n",
       "      <td>0</td>\n",
       "      <td>0</td>\n",
       "      <td>0</td>\n",
       "      <td>0</td>\n",
       "      <td>0</td>\n",
       "      <td>0</td>\n",
       "      <td>0</td>\n",
       "      <td>0</td>\n",
       "      <td>...</td>\n",
       "      <td>0</td>\n",
       "      <td>0</td>\n",
       "      <td>0</td>\n",
       "      <td>0</td>\n",
       "      <td>0</td>\n",
       "      <td>0</td>\n",
       "      <td>0</td>\n",
       "      <td>0</td>\n",
       "      <td>0</td>\n",
       "      <td>0</td>\n",
       "    </tr>\n",
       "    <tr>\n",
       "      <th>4</th>\n",
       "      <td>Gulab jamun</td>\n",
       "      <td>Milk powder, plain flour, baking powder, ghee,...</td>\n",
       "      <td>0</td>\n",
       "      <td>0</td>\n",
       "      <td>0</td>\n",
       "      <td>0</td>\n",
       "      <td>0</td>\n",
       "      <td>0</td>\n",
       "      <td>0</td>\n",
       "      <td>0</td>\n",
       "      <td>...</td>\n",
       "      <td>0</td>\n",
       "      <td>0</td>\n",
       "      <td>0</td>\n",
       "      <td>0</td>\n",
       "      <td>0</td>\n",
       "      <td>0</td>\n",
       "      <td>0</td>\n",
       "      <td>0</td>\n",
       "      <td>0</td>\n",
       "      <td>0</td>\n",
       "    </tr>\n",
       "  </tbody>\n",
       "</table>\n",
       "<p>5 rows × 367 columns</p>\n",
       "</div>"
      ],
      "text/plain": [
       "             name                                        ingredients  \\\n",
       "0      Balu shahi                    Maida flour, yogurt, oil, sugar   \n",
       "1          Boondi                            Gram flour, ghee, sugar   \n",
       "2  Gajar ka halwa       Carrots, milk, sugar, ghee, cashews, raisins   \n",
       "3          Ghevar  Flour, ghee, kewra, milk, clarified butter, su...   \n",
       "4     Gulab jamun  Milk powder, plain flour, baking powder, ghee,...   \n",
       "\n",
       "   turmeric  split urad dal  avocado oil  citric acid  green chili  chillies  \\\n",
       "0         0               0            0            0            0         0   \n",
       "1         0               0            0            0            0         0   \n",
       "2         0               0            0            0            0         0   \n",
       "3         0               0            0            0            0         0   \n",
       "4         0               0            0            0            0         0   \n",
       "\n",
       "   khaman  chana daal  ...  tomato  glutinous rice  chia seed  elachi  \\\n",
       "0       0           0  ...       0               0          0       0   \n",
       "1       0           0  ...       0               0          0       0   \n",
       "2       0           0  ...       0               0          0       0   \n",
       "3       0           0  ...       0               0          0       0   \n",
       "4       0           0  ...       0               0          0       0   \n",
       "\n",
       "   coconut flakes  sauce  litre milk  skimmed milk powder  rice  edible gum  \n",
       "0               0      0           0                    0     0           0  \n",
       "1               0      0           0                    0     0           0  \n",
       "2               0      0           0                    0     0           0  \n",
       "3               0      0           0                    0     0           0  \n",
       "4               0      0           0                    0     0           0  \n",
       "\n",
       "[5 rows x 367 columns]"
      ]
     },
     "execution_count": 6,
     "metadata": {},
     "output_type": "execute_result"
    }
   ],
   "source": [
    "new_df.head()"
   ]
  },
  {
   "cell_type": "code",
   "execution_count": 7,
   "metadata": {},
   "outputs": [],
   "source": [
    "query = ['bread crumbs', 'paneer', 'garam masala']"
   ]
  },
  {
   "cell_type": "code",
   "execution_count": 16,
   "metadata": {},
   "outputs": [
    {
     "data": {
      "text/plain": [
       "array([0, 0, 0, 0, 0, 0, 0, 0, 0, 0, 0, 0, 0, 0, 0, 0, 0, 0, 0, 0, 0, 0,\n",
       "       0, 0, 0, 0, 0, 0, 0, 0, 0, 0, 0, 0, 0, 0, 0, 0, 0, 0, 0, 0, 0, 0,\n",
       "       0, 1, 0, 0, 0, 0, 0, 0, 0, 0, 0, 0, 0, 0, 0, 0, 0, 0, 0, 0, 0, 0,\n",
       "       0, 0, 0, 0, 0, 0, 0, 0, 0, 0, 0, 0, 0, 0, 0, 0, 0, 0, 0, 0, 0, 0,\n",
       "       0, 0, 0, 0, 0, 0, 0, 0, 0, 0, 0, 0, 0, 0, 0, 0, 0, 0, 0, 0, 0, 0,\n",
       "       0, 0, 0, 0, 0, 0, 0, 0, 0, 0, 0, 0, 0, 0, 0, 0, 0, 0, 0, 0, 0, 0,\n",
       "       0, 0, 0, 0, 0, 0, 0, 0, 0, 0, 0, 0, 0, 0, 0, 0, 0, 0, 0, 0, 0, 0,\n",
       "       0, 0, 0, 0, 0, 0, 0, 0, 0, 0, 0, 0, 0, 0, 0, 0, 0, 0, 0, 0, 0, 0,\n",
       "       0, 0, 0, 0, 0, 0, 0, 0, 0, 0, 0, 0, 0, 0, 0, 0, 0, 0, 0, 1, 0, 0,\n",
       "       0, 0, 0, 0, 1, 0, 0, 0, 0, 0, 0, 0, 0, 0, 0, 0, 0, 0, 0, 0, 0, 0,\n",
       "       0, 0, 0, 0, 0, 0, 0, 0, 0, 0, 0, 0, 0, 0, 0, 0, 0, 0, 0, 0, 0, 0,\n",
       "       0, 0, 0, 0, 0, 0, 0, 0, 0, 0, 0, 0, 0, 0, 0, 0, 0, 0, 0, 0, 0, 0,\n",
       "       0, 0, 0, 0, 0, 0, 0, 0, 0, 0, 0, 0, 0, 0, 0, 0, 0, 0, 0, 0, 0, 0,\n",
       "       0, 0, 0, 0, 0, 0, 0, 0, 0, 0, 0, 0, 0, 0, 0, 0, 0, 0, 0, 0, 0, 0,\n",
       "       0, 0, 0, 0, 0, 0, 0, 0, 0, 0, 0, 0, 0, 0, 0, 0, 0, 0, 0, 0, 0, 0,\n",
       "       0, 0, 0, 0, 0, 0, 0, 0, 0, 0, 0, 0, 0, 0, 0, 0, 0, 0, 0, 0, 0, 0,\n",
       "       0, 0, 0, 0, 0, 0, 0, 0, 0, 0, 0, 0, 0])"
      ]
     },
     "execution_count": 16,
     "metadata": {},
     "output_type": "execute_result"
    }
   ],
   "source": [
    "def embed_query(q, items):\n",
    "    embedding = np.zeros((365,), dtype=int)\n",
    "    it = np.array(items)\n",
    "    \n",
    "    for q in query:\n",
    "        idx = np.where(q == it)\n",
    "        embedding[idx] = 1\n",
    "\n",
    "    return embedding\n",
    "\n",
    "embed_query(query, items)"
   ]
  },
  {
   "cell_type": "code",
   "execution_count": 23,
   "metadata": {},
   "outputs": [],
   "source": [
    "emb_qy = embed_query(query, items)\n",
    "sim = cosine_similarity(new_df.iloc[:, 2:], emb_qy.reshape(1, -1)).ravel()\n",
    "# sim"
   ]
  },
  {
   "cell_type": "code",
   "execution_count": 24,
   "metadata": {
    "collapsed": true
   },
   "outputs": [
    {
     "name": "stdout",
     "output_type": "stream",
     "text": [
      "Kofta\n",
      "Aloo tikki\n",
      "Paneer butter masala\n",
      "Bhindi masala\n",
      "Dal makhani \n",
      "Kachori\n",
      "Kadai paneer\n",
      "Chole bhature\n",
      "Chicken Tikka masala\n",
      "Lauki ki subji\n",
      "Makki di roti sarson da saag\n",
      "Bilahi Maas\n",
      "Mushroom do pyaza\n",
      "Mushroom matar\n",
      "Dum aloo\n",
      "Paneer tikka masala\n",
      "Palak paneer\n",
      "Dal tadka\n",
      "Aloo shimla mirch\n",
      "Tandoori Chicken\n",
      "Vegetable jalfrezi\n",
      "Aloo gobi\n",
      "Samosa\n",
      "Dahi vada\n",
      "Shahi paneer\n",
      "Beef Fry\n",
      "Aloo matar\n",
      "Chana masala\n"
     ]
    }
   ],
   "source": [
    "idx_sorted = np.argsort(sim)[::-1]\n",
    "# print(len(idx_sorted))\n",
    "# print(sim[idx_sorted])\n",
    "\n",
    "for val, idx in np.column_stack((sim[idx_sorted], idx_sorted)):\n",
    "#     print(val, idx)\n",
    "    if val > 0:\n",
    "        print(new_df.iloc[int(idx), 0])"
   ]
  },
  {
   "cell_type": "code",
   "execution_count": 37,
   "metadata": {
    "collapsed": true
   },
   "outputs": [
    {
     "data": {
      "text/plain": [
       "array([0, 0, 0, 0, 0, 0, 0, 0, 0, 0, 0, 0, 0, 0, 0, 0, 0, 0, 0, 0, 0, 0,\n",
       "       0, 0, 0, 0, 0, 0, 0, 0, 0, 0, 0, 0, 0, 0, 0, 0, 0, 0, 0, 0, 0, 0,\n",
       "       0, 1, 0, 0, 0, 0, 0, 0, 0, 0, 0, 0, 0, 0, 0, 0, 0, 0, 0, 0, 0, 0,\n",
       "       0, 0, 0, 0, 0, 0, 0, 0, 0, 1, 0, 0, 0, 0, 0, 0, 0, 0, 0, 0, 0, 0,\n",
       "       0, 0, 0, 0, 0, 0, 0, 0, 0, 0, 0, 0, 0, 0, 0, 0, 0, 0, 0, 0, 0, 0,\n",
       "       0, 0, 0, 0, 0, 0, 0, 0, 0, 0, 0, 0, 0, 0, 0, 0, 0, 0, 0, 0, 0, 0,\n",
       "       0, 0, 0, 0, 0, 0, 0, 0, 0, 0, 0, 0, 0, 0, 0, 0, 0, 0, 0, 0, 0, 0,\n",
       "       0, 0, 0, 0, 0, 0, 0, 0, 0, 0, 0, 0, 0, 0, 0, 0, 0, 0, 0, 0, 0, 0,\n",
       "       0, 0, 0, 0, 0, 0, 0, 0, 0, 0, 0, 0, 0, 0, 0, 0, 0, 0, 0, 0, 0, 0,\n",
       "       0, 0, 0, 1, 0, 0, 0, 0, 0, 0, 0, 0, 0, 0, 0, 0, 0, 0, 0, 0, 0, 0,\n",
       "       0, 0, 0, 0, 0, 0, 0, 0, 0, 0, 0, 0, 0, 0, 0, 0, 0, 0, 0, 0, 0, 0,\n",
       "       0, 0, 0, 0, 0, 0, 0, 0, 0, 0, 0, 0, 0, 0, 0, 0, 0, 0, 0, 0, 0, 0,\n",
       "       0, 0, 0, 0, 0, 0, 0, 0, 0, 0, 0, 0, 0, 0, 0, 0, 0, 0, 0, 0, 0, 0,\n",
       "       0, 0, 0, 0, 0, 0, 0, 0, 0, 0, 0, 0, 0, 0, 0, 0, 0, 0, 0, 0, 0, 0,\n",
       "       0, 0, 0, 0, 0, 0, 0, 0, 0, 0, 0, 0, 0, 0, 0, 0, 0, 1, 0, 0, 0, 0,\n",
       "       0, 0, 0, 0, 0, 0, 0, 0, 0, 0, 0, 0, 0, 0, 0, 0, 0, 0, 0, 0, 0, 0,\n",
       "       0, 0, 0, 1, 0, 0, 0, 0, 0, 0, 0, 0, 0], dtype=object)"
      ]
     },
     "execution_count": 37,
     "metadata": {},
     "output_type": "execute_result"
    }
   ],
   "source": [
    "new_query = 'Shahi paneer'\n",
    "new_embed = new_df.loc[new_df['name'] == new_query].values.ravel()[2:]\n",
    "new_embed"
   ]
  },
  {
   "cell_type": "code",
   "execution_count": 38,
   "metadata": {},
   "outputs": [],
   "source": [
    "new_sim = cosine_similarity(new_df.iloc[:, 2:], new_embed.reshape(1, -1)).ravel()"
   ]
  },
  {
   "cell_type": "code",
   "execution_count": 39,
   "metadata": {
    "collapsed": true
   },
   "outputs": [
    {
     "data": {
      "text/plain": [
       "array([0.        , 0.        , 0.        , 0.        , 0.        ,\n",
       "       0.        , 0.        , 0.        , 0.25819889, 0.        ,\n",
       "       0.        , 0.        , 0.        , 0.        , 0.        ,\n",
       "       0.        , 0.        , 0.        , 0.        , 0.        ,\n",
       "       0.        , 0.        , 0.        , 0.        , 0.        ,\n",
       "       0.        , 0.        , 0.        , 0.        , 0.        ,\n",
       "       0.        , 0.        , 0.        , 0.        , 0.        ,\n",
       "       0.        , 0.        , 0.        , 0.        , 0.        ,\n",
       "       0.        , 0.        , 0.        , 0.        , 0.        ,\n",
       "       0.        , 0.        , 0.        , 0.        , 0.        ,\n",
       "       0.        , 0.        , 0.        , 0.        , 0.        ,\n",
       "       0.        , 0.        , 0.        , 0.        , 0.        ,\n",
       "       0.        , 0.        , 0.        , 0.        , 0.36514837,\n",
       "       0.        , 0.        , 0.        , 0.2       , 0.2       ,\n",
       "       0.36514837, 0.        , 0.2       , 0.        , 0.2       ,\n",
       "       0.        , 0.        , 0.36514837, 0.        , 0.        ,\n",
       "       0.2       , 0.        , 0.2       , 0.        , 0.        ,\n",
       "       0.2       , 0.4       , 0.2       , 0.        , 0.        ,\n",
       "       0.2       , 0.4       , 0.2       , 0.        , 0.4       ,\n",
       "       0.2       , 0.        , 0.2       , 0.4       , 0.2       ,\n",
       "       0.4       , 0.        , 0.6       , 0.2       , 0.        ,\n",
       "       0.        , 0.4       , 0.2       , 0.        , 0.        ,\n",
       "       0.        , 0.        , 0.        , 0.        , 0.2       ,\n",
       "       0.4       , 0.2       , 0.4       , 0.        , 1.        ,\n",
       "       0.        , 0.4       , 0.2       , 0.        , 0.2       ,\n",
       "       0.        , 0.        , 0.        , 0.        , 0.        ,\n",
       "       0.        , 0.        , 0.2       , 0.        , 0.        ,\n",
       "       0.2236068 , 0.        , 0.18257419, 0.        , 0.        ,\n",
       "       0.        , 0.        , 0.        , 0.2       , 0.        ,\n",
       "       0.        , 0.2       , 0.        , 0.        , 0.        ,\n",
       "       0.2       , 0.        , 0.        , 0.        , 0.2       ,\n",
       "       0.        , 0.        , 0.        , 0.        , 0.18257419,\n",
       "       0.        , 0.2       , 0.2       , 0.4       , 0.2       ,\n",
       "       0.        , 0.        , 0.2       , 0.        , 0.        ,\n",
       "       0.        , 0.        , 0.        , 0.        , 0.        ,\n",
       "       0.        , 0.        , 0.        , 0.        , 0.2       ,\n",
       "       0.        , 0.        , 0.        , 0.        , 0.        ,\n",
       "       0.        , 0.        , 0.        , 0.        , 0.        ,\n",
       "       0.        , 0.        , 0.        , 0.        , 0.        ,\n",
       "       0.        , 0.        , 0.        , 0.        , 0.        ,\n",
       "       0.        , 0.2       , 0.        , 0.        , 0.4472136 ,\n",
       "       0.        , 0.        , 0.        , 0.        , 0.        ,\n",
       "       0.        , 0.18257419, 0.2       , 0.        , 0.        ,\n",
       "       0.        , 0.        , 0.        , 0.        , 0.        ,\n",
       "       0.        , 0.        , 0.        , 0.        , 0.        ,\n",
       "       0.        , 0.        , 0.        , 0.2       , 0.        ,\n",
       "       0.        , 0.        , 0.2       , 0.        , 0.        ,\n",
       "       0.        , 0.        , 0.2       , 0.2       , 0.        ,\n",
       "       0.        , 0.        , 0.2       , 0.2       , 0.        ,\n",
       "       0.        , 0.        , 0.        , 0.        , 0.        ,\n",
       "       0.        , 0.        , 0.2       , 0.        , 0.        ])"
      ]
     },
     "execution_count": 39,
     "metadata": {},
     "output_type": "execute_result"
    }
   ],
   "source": [
    "new_sim"
   ]
  },
  {
   "cell_type": "code",
   "execution_count": 44,
   "metadata": {},
   "outputs": [
    {
     "name": "stdout",
     "output_type": "stream",
     "text": [
      "Mushroom do pyaza 0.6\n",
      "Sev tameta 0.4472135954999579\n",
      "Khichdi 0.39999999999999997\n",
      "Vegetable jalfrezi 0.39999999999999997\n",
      "Dal tadka 0.39999999999999997\n",
      "Makki di roti sarson da saag 0.39999999999999997\n",
      "Palak paneer 0.39999999999999997\n",
      "Samosa 0.39999999999999997\n",
      "Lauki ki subji 0.39999999999999997\n",
      "Rajma chaval 0.39999999999999997\n"
     ]
    }
   ],
   "source": [
    "new_idx_sorted = np.argsort(new_sim)[::-1]\n",
    "\n",
    "count = 10\n",
    "for val, idx in np.column_stack((new_sim[new_idx_sorted], new_idx_sorted)):\n",
    "#     print(val, idx)\n",
    "    if count == 0:\n",
    "        break\n",
    "    if 0 < val < 0.99:\n",
    "        print(new_df.iloc[int(idx), 0], val)\n",
    "        count -= 1"
   ]
  },
  {
   "cell_type": "code",
   "execution_count": 83,
   "metadata": {},
   "outputs": [],
   "source": [
    "queries = ['Balu shahi', 'Gajar ka halwa', 'Gulab jamun']\n",
    "\n",
    "embedds = []\n",
    "for q in queries:\n",
    "#     print(q)\n",
    "    food = new_df.loc[new_df['name'] == q].values[0][2:]\n",
    "    embedds.append(food)\n",
    "#     print(food)\n",
    "    \n",
    "# print(len(embs))\n",
    "embedds = np.logical_or.reduce(embedds)"
   ]
  },
  {
   "cell_type": "code",
   "execution_count": 84,
   "metadata": {},
   "outputs": [],
   "source": [
    "new_sims = cosine_similarity(new_df.iloc[:, 2:], embedds.reshape(1, -1)).ravel()"
   ]
  },
  {
   "cell_type": "code",
   "execution_count": 85,
   "metadata": {},
   "outputs": [
    {
     "data": {
      "text/plain": [
       "array([0.53452248, 0.3086067 , 0.65465367, 0.25354628, 0.75592895,\n",
       "       0.        , 0.08908708, 0.40089186, 0.3086067 , 0.26726124,\n",
       "       0.3086067 , 0.40089186, 0.10910895, 0.13363062, 0.15430335,\n",
       "       0.13363062, 0.26726124, 0.        , 0.15430335, 0.35856858,\n",
       "       0.3086067 , 0.3086067 , 0.18898224, 0.10910895, 0.11952286,\n",
       "       0.3086067 , 0.        , 0.13363062, 0.3086067 , 0.18898224,\n",
       "       0.26726124, 0.        , 0.        , 0.        , 0.15430335,\n",
       "       0.26726124, 0.11952286, 0.15430335, 0.20203051, 0.        ,\n",
       "       0.3086067 , 0.18898224, 0.23904572, 0.18898224, 0.        ,\n",
       "       0.18898224, 0.20203051, 0.18898224, 0.        , 0.26726124,\n",
       "       0.15430335, 0.        , 0.18898224, 0.        , 0.        ,\n",
       "       0.        , 0.3086067 , 0.        , 0.26726124, 0.18898224,\n",
       "       0.        , 0.40089186, 0.13363062, 0.3086067 , 0.        ,\n",
       "       0.        , 0.26726124, 0.10910895, 0.        , 0.        ,\n",
       "       0.        , 0.11952286, 0.        , 0.23904572, 0.        ,\n",
       "       0.        , 0.        , 0.        , 0.        , 0.        ,\n",
       "       0.        , 0.        , 0.        , 0.        , 0.        ,\n",
       "       0.        , 0.        , 0.        , 0.        , 0.        ,\n",
       "       0.        , 0.        , 0.        , 0.        , 0.        ,\n",
       "       0.        , 0.11952286, 0.        , 0.        , 0.        ,\n",
       "       0.        , 0.        , 0.        , 0.        , 0.        ,\n",
       "       0.        , 0.        , 0.        , 0.        , 0.        ,\n",
       "       0.        , 0.        , 0.        , 0.        , 0.        ,\n",
       "       0.        , 0.        , 0.        , 0.        , 0.        ,\n",
       "       0.23904572, 0.        , 0.        , 0.11952286, 0.        ,\n",
       "       0.        , 0.        , 0.        , 0.        , 0.        ,\n",
       "       0.        , 0.        , 0.        , 0.        , 0.11952286,\n",
       "       0.        , 0.        , 0.        , 0.        , 0.        ,\n",
       "       0.        , 0.        , 0.        , 0.        , 0.        ,\n",
       "       0.        , 0.11952286, 0.        , 0.15430335, 0.35856858,\n",
       "       0.        , 0.        , 0.        , 0.        , 0.        ,\n",
       "       0.15430335, 0.        , 0.        , 0.        , 0.        ,\n",
       "       0.        , 0.        , 0.        , 0.        , 0.11952286,\n",
       "       0.        , 0.        , 0.        , 0.        , 0.        ,\n",
       "       0.11952286, 0.        , 0.        , 0.11952286, 0.23904572,\n",
       "       0.        , 0.        , 0.        , 0.        , 0.        ,\n",
       "       0.        , 0.        , 0.23904572, 0.11952286, 0.        ,\n",
       "       0.        , 0.        , 0.        , 0.        , 0.15430335,\n",
       "       0.18898224, 0.        , 0.        , 0.        , 0.        ,\n",
       "       0.        , 0.        , 0.11952286, 0.        , 0.        ,\n",
       "       0.        , 0.        , 0.        , 0.        , 0.13363062,\n",
       "       0.        , 0.        , 0.11952286, 0.        , 0.        ,\n",
       "       0.        , 0.        , 0.11952286, 0.11952286, 0.        ,\n",
       "       0.        , 0.11952286, 0.11952286, 0.11952286, 0.        ,\n",
       "       0.        , 0.        , 0.        , 0.        , 0.        ,\n",
       "       0.        , 0.        , 0.        , 0.        , 0.        ,\n",
       "       0.        , 0.        , 0.        , 0.13363062, 0.18898224,\n",
       "       0.        , 0.        , 0.        , 0.        , 0.        ,\n",
       "       0.        , 0.10910895, 0.        , 0.11952286, 0.        ,\n",
       "       0.        , 0.23904572, 0.11952286, 0.        , 0.        ,\n",
       "       0.        , 0.        , 0.        , 0.13363062, 0.        ])"
      ]
     },
     "execution_count": 85,
     "metadata": {},
     "output_type": "execute_result"
    }
   ],
   "source": [
    "new_sims"
   ]
  },
  {
   "cell_type": "code",
   "execution_count": 86,
   "metadata": {},
   "outputs": [
    {
     "name": "stdout",
     "output_type": "stream",
     "text": [
      "Shankarpali\n",
      "Lassi\n",
      "Kaju katli\n",
      "Payasam\n",
      "Sohan papdi\n",
      "Dharwad pedha\n",
      "Kalakand\n",
      "Laddu\n",
      "Basundi\n",
      "Mihidana\n"
     ]
    }
   ],
   "source": [
    "idx_sorts = np.argsort(new_sims)[::-1]\n",
    "\n",
    "count = 10\n",
    "for val, idx in np.column_stack((new_sims[idx_sorts], idx_sorts)):\n",
    "#     print(val, idx)\n",
    "    if count == 0:\n",
    "        break\n",
    "    if 0 < val < 0.99:\n",
    "        food = new_df.iloc[int(idx), 0]\n",
    "        if food not in queries:\n",
    "            count -= 1\n",
    "            print(food)"
   ]
  },
  {
   "cell_type": "code",
   "execution_count": null,
   "metadata": {},
   "outputs": [],
   "source": []
  },
  {
   "cell_type": "code",
   "execution_count": null,
   "metadata": {},
   "outputs": [],
   "source": []
  },
  {
   "cell_type": "code",
   "execution_count": null,
   "metadata": {},
   "outputs": [],
   "source": []
  },
  {
   "cell_type": "code",
   "execution_count": null,
   "metadata": {},
   "outputs": [],
   "source": []
  },
  {
   "cell_type": "code",
   "execution_count": null,
   "metadata": {},
   "outputs": [],
   "source": []
  },
  {
   "cell_type": "code",
   "execution_count": 93,
   "metadata": {},
   "outputs": [
    {
     "data": {
      "text/plain": [
       "array(['Tomato, curry leaves, garlic, mustard seeds, hot water'],\n",
       "      dtype=object)"
      ]
     },
     "execution_count": 93,
     "metadata": {},
     "output_type": "execute_result"
    }
   ],
   "source": [
    "df.loc[df['name'] == 'Rasam', 'ingredients'].values"
   ]
  },
  {
   "cell_type": "code",
   "execution_count": null,
   "metadata": {
    "id": "BdYiacEE8LwS"
   },
   "outputs": [],
   "source": [
    ".useless = ['axone', 'yogurt', 'wine vinegar', 'whole red', 'whole wheat flour', 'watercress', 'vermicelli pudding',\n",
    "           'vegetable oil', 'tomato', 'tomato paste', 'thick poha', ]\n",
    "useful = ['mushrooms', 'vermicelli', 'poha', ]\n"
   ]
  },
  {
   "cell_type": "code",
   "execution_count": null,
   "metadata": {
    "colab": {
     "base_uri": "https://localhost:8080/"
    },
    "id": "BVqlb6LVkKqP",
    "outputId": "ad7a672b-a0ae-4f0d-bcb6-6396b3054226"
   },
   "outputs": [],
   "source": [
    "items"
   ]
  },
  {
   "cell_type": "code",
   "execution_count": null,
   "metadata": {
    "id": "omOW0gYckbUS"
   },
   "outputs": [],
   "source": [
    "'''\n",
    "250 x 366\n",
    "\n",
    "name potato tomato almonsd\n",
    "halwa 0         0       1\n",
    "\n",
    "\n",
    "\n",
    "q = [sugar, cheese, bread] (365, )\n",
    "= [0, 0, 0, 1, 0, 0, 1, 0, 1]\n",
    "\n",
    "\n",
    "remove = { teaspoon, teaspoons, to, taste }\n",
    "'''"
   ]
  },
  {
   "cell_type": "code",
   "execution_count": null,
   "metadata": {
    "colab": {
     "base_uri": "https://localhost:8080/"
    },
    "id": "t1WokdES2A0v",
    "outputId": "a01dd0fb-0995-42c7-f106-1fe8671e4f2b"
   },
   "outputs": [],
   "source": [
    "import pandas as pd\n",
    "import numpy as np\n",
    "\n",
    "raw = pd.read_excel('/content/IndianFoodDatasetXLS_6000.xlsx')\n",
    "df = raw.copy()\n",
    "\n",
    "columns_to_drop = ['RecipeName', 'Ingredients', 'URL', 'PrepTimeInMins' , 'CookTimeInMins', 'Course',\n",
    "                   'TotalTimeInMins','TranslatedInstructions', 'Instructions', 'Servings', 'Srno', 'Diet']\n",
    "\n",
    "df = df.drop(columns = columns_to_drop).dropna()\n",
    "\n",
    "# data seems to contain more than just indian cuisines, so I drop these\n",
    "cuisines_to_drop = ['Mexican', 'Italian Recipes', 'Thai', 'Chinese', 'Asian', 'Middle Eastern', 'European',\n",
    "                   'Arab', 'Japanese', 'Vietnamese', 'British', 'Greek', 'French', 'Mediterranean', 'Sri Lankan',\n",
    "                   'Indonesian', 'African', 'Korean', 'American', 'Carribbean', 'World Breakfast', 'Malaysian', 'Dessert',\n",
    "                   'Afghan', 'Snack', 'Jewish', 'Brunch', 'Lunch', 'Continental', 'Fusion']\n",
    "\n",
    "# need to drop desserts and breakfasts, as these are much less likely to contain spices\n",
    "# courses_to_drop = ['South Indian Breakfast', 'Snack', 'Appetizer', 'Indian Breakfast', 'Dessert', 'North Indian Breakfast',\n",
    "                #   'World Breakfast', 'Brunch', 'Side Dish']\n",
    "\n",
    "df = df[~df['Cuisine'].isin(cuisines_to_drop)]\n",
    "# df = df[~df['Course'].isin(courses_to_drop)]\n",
    "df.shape"
   ]
  },
  {
   "cell_type": "code",
   "execution_count": null,
   "metadata": {
    "colab": {
     "base_uri": "https://localhost:8080/",
     "height": 197
    },
    "id": "jCHfNreA2J0n",
    "outputId": "cd022bfa-71a0-407a-ff6a-66cb1f26f0c8"
   },
   "outputs": [],
   "source": [
    "df.head()"
   ]
  },
  {
   "cell_type": "code",
   "execution_count": null,
   "metadata": {
    "colab": {
     "base_uri": "https://localhost:8080/"
    },
    "id": "2gGMAbRJ2LPY",
    "outputId": "9093bd25-18d8-4e90-f945-72d4c64edaab"
   },
   "outputs": [],
   "source": [
    "# df = df['TranslatedIngredients']\n",
    "\n",
    "def isEnglish(s):\n",
    "    try:\n",
    "        s.encode(encoding='utf-8').decode('ascii')\n",
    "    except UnicodeDecodeError:\n",
    "        return False\n",
    "    else:\n",
    "        return True\n",
    "\n",
    "#create boolean mask\n",
    "mask = df.loc[:, 'TranslatedIngredients'].apply(isEnglish)\n",
    "df = df[mask].dropna().reset_index(drop=True)\n",
    "\n",
    "df.shape #I see we dropped about 350 entries."
   ]
  },
  {
   "cell_type": "code",
   "execution_count": null,
   "metadata": {
    "colab": {
     "base_uri": "https://localhost:8080/",
     "height": 197
    },
    "id": "-5XC4DhS2rhM",
    "outputId": "4dd3f254-3bd9-42a4-8716-bf3c865ec495"
   },
   "outputs": [],
   "source": [
    "df.head()"
   ]
  },
  {
   "cell_type": "code",
   "execution_count": null,
   "metadata": {
    "id": "7e1C9Llw8f5n"
   },
   "outputs": [],
   "source": [
    "ing_df = df.copy()"
   ]
  },
  {
   "cell_type": "code",
   "execution_count": null,
   "metadata": {
    "colab": {
     "base_uri": "https://localhost:8080/"
    },
    "id": "p40z_TpF3Bze",
    "outputId": "7e8edb1f-ecb0-4682-c17a-024d5cf8421e"
   },
   "outputs": [],
   "source": [
    "for i, row in ing_df.iterrows():\n",
    "    name, ing, _ = row\n",
    "    \n",
    "    print(ing)\n",
    "    ing_df.iloc[i, 1] = clean_ingredients(ing)\n",
    "    break\n"
   ]
  },
  {
   "cell_type": "code",
   "execution_count": null,
   "metadata": {
    "id": "gjxHNaE94ODH"
   },
   "outputs": [],
   "source": [
    "def clean_ingredients(s):\n",
    "    items = ing.split(', ')\n",
    "    filt_items = []\n",
    "    for words in items:\n",
    "        filt_word = ''\n",
    "        for letter in word:\n",
    "            if letter.isalpha() or letter.isspace():\n",
    "                filt_word\n",
    "\n",
    "    return 'Hello'"
   ]
  },
  {
   "cell_type": "code",
   "execution_count": null,
   "metadata": {
    "colab": {
     "base_uri": "https://localhost:8080/"
    },
    "id": "wVLOjAkc8cl_",
    "outputId": "50ab9f14-3f2e-4a9e-ac50-c04891c8794b"
   },
   "outputs": [],
   "source": [
    "import re\n",
    "\n",
    "pattern = r'^[a-zA-Z\\s-]+$'\n",
    "\n",
    "print(re.match(pattern, 'Karela Bitter Gourd Pavakkai - deseeded'))"
   ]
  },
  {
   "cell_type": "code",
   "execution_count": null,
   "metadata": {
    "id": "BUN5uvZ9_JIS"
   },
   "outputs": [],
   "source": []
  }
 ],
 "metadata": {
  "colab": {
   "name": "Foody",
   "provenance": []
  },
  "kernelspec": {
   "display_name": "CurrentEnv",
   "language": "python",
   "name": "env"
  },
  "language_info": {
   "codemirror_mode": {
    "name": "ipython",
    "version": 3
   },
   "file_extension": ".py",
   "mimetype": "text/x-python",
   "name": "python",
   "nbconvert_exporter": "python",
   "pygments_lexer": "ipython3",
   "version": "3.8.4rc1"
  }
 },
 "nbformat": 4,
 "nbformat_minor": 1
}
