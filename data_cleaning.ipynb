{
 "cells": [
  {
   "cell_type": "code",
   "execution_count": 1,
   "metadata": {
    "id": "l7yjX7LN6ha6"
   },
   "outputs": [],
   "source": [
    "import numpy as np\n",
    "import pandas as pd"
   ]
  },
  {
   "cell_type": "code",
   "execution_count": 3,
   "metadata": {
    "id": "7zhfD7Aa3Je6"
   },
   "outputs": [
    {
     "data": {
      "text/html": [
       "<div>\n",
       "<style scoped>\n",
       "    .dataframe tbody tr th:only-of-type {\n",
       "        vertical-align: middle;\n",
       "    }\n",
       "\n",
       "    .dataframe tbody tr th {\n",
       "        vertical-align: top;\n",
       "    }\n",
       "\n",
       "    .dataframe thead th {\n",
       "        text-align: right;\n",
       "    }\n",
       "</style>\n",
       "<table border=\"1\" class=\"dataframe\">\n",
       "  <thead>\n",
       "    <tr style=\"text-align: right;\">\n",
       "      <th></th>\n",
       "      <th>name</th>\n",
       "      <th>ingredients</th>\n",
       "    </tr>\n",
       "  </thead>\n",
       "  <tbody>\n",
       "    <tr>\n",
       "      <th>250</th>\n",
       "      <td>Til Pitha</td>\n",
       "      <td>Glutinous rice, black sesame seeds, gur</td>\n",
       "    </tr>\n",
       "    <tr>\n",
       "      <th>251</th>\n",
       "      <td>Bebinca</td>\n",
       "      <td>Coconut milk, egg yolks, clarified butter, all...</td>\n",
       "    </tr>\n",
       "    <tr>\n",
       "      <th>252</th>\n",
       "      <td>Shufta</td>\n",
       "      <td>Cottage cheese, dry dates, dried rose petals, ...</td>\n",
       "    </tr>\n",
       "    <tr>\n",
       "      <th>253</th>\n",
       "      <td>Mawa Bati</td>\n",
       "      <td>Milk powder, dry fruits, arrowroot powder, all...</td>\n",
       "    </tr>\n",
       "    <tr>\n",
       "      <th>254</th>\n",
       "      <td>Pinaca</td>\n",
       "      <td>Brown rice, fennel seeds, grated coconut, blac...</td>\n",
       "    </tr>\n",
       "  </tbody>\n",
       "</table>\n",
       "</div>"
      ],
      "text/plain": [
       "          name                                        ingredients\n",
       "250  Til Pitha            Glutinous rice, black sesame seeds, gur\n",
       "251    Bebinca  Coconut milk, egg yolks, clarified butter, all...\n",
       "252     Shufta  Cottage cheese, dry dates, dried rose petals, ...\n",
       "253  Mawa Bati  Milk powder, dry fruits, arrowroot powder, all...\n",
       "254     Pinaca  Brown rice, fennel seeds, grated coconut, blac..."
      ]
     },
     "execution_count": 3,
     "metadata": {},
     "output_type": "execute_result"
    }
   ],
   "source": [
    "df = pd.read_csv('food_250.csv', usecols=['name', 'ingredients'])\n",
    "df.tail()"
   ]
  },
  {
   "cell_type": "code",
   "execution_count": null,
   "metadata": {
    "id": "OxQtDhIP3-5-"
   },
   "outputs": [],
   "source": [
    "items = set()\n",
    "for x in df.ingredients:\n",
    "    for val in x.split(', '):\n",
    "        items.add(val.lower().strip())\n",
    "    # break"
   ]
  },
  {
   "cell_type": "code",
   "execution_count": null,
   "metadata": {
    "colab": {
     "base_uri": "https://localhost:8080/"
    },
    "id": "XUN0H8Ls4Rgo",
    "outputId": "0ca2c901-d8c1-4611-8268-43df43a95d7d"
   },
   "outputs": [],
   "source": [
    "len(items)"
   ]
  },
  {
   "cell_type": "code",
   "execution_count": null,
   "metadata": {
    "colab": {
     "base_uri": "https://localhost:8080/"
    },
    "id": "FLT0fzH88KFd",
    "outputId": "a86cfc6e-45d2-4226-a636-ef7ab36ab787"
   },
   "outputs": [],
   "source": [
    "items"
   ]
  },
  {
   "cell_type": "code",
   "execution_count": null,
   "metadata": {
    "id": "BdYiacEE8LwS"
   },
   "outputs": [],
   "source": [
    "useless = ['axone', 'yogurt', 'wine vinegar', 'whole red', 'whole wheat flour', 'watercress', 'vermicelli pudding',\n",
    "           'vegetable oil', 'tomato', 'tomato paste', 'thick poha', ]\n",
    "useful = ['mushrooms', 'vermicelli', 'poha', ]\n"
   ]
  },
  {
   "cell_type": "code",
   "execution_count": null,
   "metadata": {
    "colab": {
     "base_uri": "https://localhost:8080/"
    },
    "id": "BVqlb6LVkKqP",
    "outputId": "ad7a672b-a0ae-4f0d-bcb6-6396b3054226"
   },
   "outputs": [],
   "source": [
    "items"
   ]
  },
  {
   "cell_type": "code",
   "execution_count": null,
   "metadata": {
    "id": "omOW0gYckbUS"
   },
   "outputs": [],
   "source": [
    "'''\n",
    "250 x 366\n",
    "\n",
    "name potato tomato almonsd\n",
    "halwa 0         0       1\n",
    "\n",
    "\n",
    "\n",
    "q = [sugar, cheese, bread] (365, )\n",
    "= [0, 0, 0, 1, 0, 0, 1, 0, 1]\n",
    "\n",
    "\n",
    "remove = { teaspoon, teaspoons, to, taste }\n",
    "'''"
   ]
  },
  {
   "cell_type": "code",
   "execution_count": null,
   "metadata": {
    "colab": {
     "base_uri": "https://localhost:8080/"
    },
    "id": "t1WokdES2A0v",
    "outputId": "a01dd0fb-0995-42c7-f106-1fe8671e4f2b"
   },
   "outputs": [],
   "source": [
    "import pandas as pd\n",
    "import numpy as np\n",
    "\n",
    "raw = pd.read_excel('/content/IndianFoodDatasetXLS_6000.xlsx')\n",
    "df = raw.copy()\n",
    "\n",
    "columns_to_drop = ['RecipeName', 'Ingredients', 'URL', 'PrepTimeInMins' , 'CookTimeInMins', 'Course',\n",
    "                   'TotalTimeInMins','TranslatedInstructions', 'Instructions', 'Servings', 'Srno', 'Diet']\n",
    "\n",
    "df = df.drop(columns = columns_to_drop).dropna()\n",
    "\n",
    "# data seems to contain more than just indian cuisines, so I drop these\n",
    "cuisines_to_drop = ['Mexican', 'Italian Recipes', 'Thai', 'Chinese', 'Asian', 'Middle Eastern', 'European',\n",
    "                   'Arab', 'Japanese', 'Vietnamese', 'British', 'Greek', 'French', 'Mediterranean', 'Sri Lankan',\n",
    "                   'Indonesian', 'African', 'Korean', 'American', 'Carribbean', 'World Breakfast', 'Malaysian', 'Dessert',\n",
    "                   'Afghan', 'Snack', 'Jewish', 'Brunch', 'Lunch', 'Continental', 'Fusion']\n",
    "\n",
    "# need to drop desserts and breakfasts, as these are much less likely to contain spices\n",
    "# courses_to_drop = ['South Indian Breakfast', 'Snack', 'Appetizer', 'Indian Breakfast', 'Dessert', 'North Indian Breakfast',\n",
    "                #   'World Breakfast', 'Brunch', 'Side Dish']\n",
    "\n",
    "df = df[~df['Cuisine'].isin(cuisines_to_drop)]\n",
    "# df = df[~df['Course'].isin(courses_to_drop)]\n",
    "df.shape"
   ]
  },
  {
   "cell_type": "code",
   "execution_count": null,
   "metadata": {
    "colab": {
     "base_uri": "https://localhost:8080/",
     "height": 197
    },
    "id": "jCHfNreA2J0n",
    "outputId": "cd022bfa-71a0-407a-ff6a-66cb1f26f0c8"
   },
   "outputs": [],
   "source": [
    "df.head()"
   ]
  },
  {
   "cell_type": "code",
   "execution_count": null,
   "metadata": {
    "colab": {
     "base_uri": "https://localhost:8080/"
    },
    "id": "2gGMAbRJ2LPY",
    "outputId": "9093bd25-18d8-4e90-f945-72d4c64edaab"
   },
   "outputs": [],
   "source": [
    "# df = df['TranslatedIngredients']\n",
    "\n",
    "def isEnglish(s):\n",
    "    try:\n",
    "        s.encode(encoding='utf-8').decode('ascii')\n",
    "    except UnicodeDecodeError:\n",
    "        return False\n",
    "    else:\n",
    "        return True\n",
    "\n",
    "#create boolean mask\n",
    "mask = df.loc[:, 'TranslatedIngredients'].apply(isEnglish)\n",
    "df = df[mask].dropna().reset_index(drop=True)\n",
    "\n",
    "df.shape #I see we dropped about 350 entries."
   ]
  },
  {
   "cell_type": "code",
   "execution_count": null,
   "metadata": {
    "colab": {
     "base_uri": "https://localhost:8080/",
     "height": 197
    },
    "id": "-5XC4DhS2rhM",
    "outputId": "4dd3f254-3bd9-42a4-8716-bf3c865ec495"
   },
   "outputs": [],
   "source": [
    "df.head()"
   ]
  },
  {
   "cell_type": "code",
   "execution_count": null,
   "metadata": {
    "id": "7e1C9Llw8f5n"
   },
   "outputs": [],
   "source": [
    "ing_df = df.copy()"
   ]
  },
  {
   "cell_type": "code",
   "execution_count": null,
   "metadata": {
    "colab": {
     "base_uri": "https://localhost:8080/"
    },
    "id": "p40z_TpF3Bze",
    "outputId": "7e8edb1f-ecb0-4682-c17a-024d5cf8421e"
   },
   "outputs": [],
   "source": [
    "for i, row in ing_df.iterrows():\n",
    "    name, ing, _ = row\n",
    "    \n",
    "    print(ing)\n",
    "    ing_df.iloc[i, 1] = clean_ingredients(ing)\n",
    "    break\n"
   ]
  },
  {
   "cell_type": "code",
   "execution_count": null,
   "metadata": {
    "id": "gjxHNaE94ODH"
   },
   "outputs": [],
   "source": [
    "def clean_ingredients(s):\n",
    "    items = ing.split(', ')\n",
    "    filt_items = []\n",
    "    for words in items:\n",
    "        filt_word = ''\n",
    "        for letter in word:\n",
    "            if letter.isalpha() or letter.isspace():\n",
    "                filt_word\n",
    "\n",
    "    return 'Hello'"
   ]
  },
  {
   "cell_type": "code",
   "execution_count": null,
   "metadata": {
    "colab": {
     "base_uri": "https://localhost:8080/"
    },
    "id": "wVLOjAkc8cl_",
    "outputId": "50ab9f14-3f2e-4a9e-ac50-c04891c8794b"
   },
   "outputs": [],
   "source": [
    "import re\n",
    "\n",
    "pattern = r'^[a-zA-Z\\s-]+$'\n",
    "\n",
    "print(re.match(pattern, 'Karela Bitter Gourd Pavakkai - deseeded'))"
   ]
  },
  {
   "cell_type": "code",
   "execution_count": null,
   "metadata": {
    "id": "BUN5uvZ9_JIS"
   },
   "outputs": [],
   "source": []
  }
 ],
 "metadata": {
  "colab": {
   "name": "Foody",
   "provenance": []
  },
  "kernelspec": {
   "display_name": "CurrentEnv",
   "language": "python",
   "name": "env"
  },
  "language_info": {
   "codemirror_mode": {
    "name": "ipython",
    "version": 3
   },
   "file_extension": ".py",
   "mimetype": "text/x-python",
   "name": "python",
   "nbconvert_exporter": "python",
   "pygments_lexer": "ipython3",
   "version": "3.8.4rc1"
  }
 },
 "nbformat": 4,
 "nbformat_minor": 1
}
