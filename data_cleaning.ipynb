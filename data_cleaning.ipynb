{
 "cells": [
  {
   "cell_type": "code",
   "execution_count": 54,
   "metadata": {
    "id": "l7yjX7LN6ha6"
   },
   "outputs": [],
   "source": [
    "import numpy as np\n",
    "import pandas as pd\n",
    "\n",
    "from sklearn.metrics.pairwise import cosine_similarity"
   ]
  },
  {
   "cell_type": "code",
   "execution_count": 29,
   "metadata": {
    "id": "7zhfD7Aa3Je6"
   },
   "outputs": [
    {
     "data": {
      "text/html": [
       "<div>\n",
       "<style scoped>\n",
       "    .dataframe tbody tr th:only-of-type {\n",
       "        vertical-align: middle;\n",
       "    }\n",
       "\n",
       "    .dataframe tbody tr th {\n",
       "        vertical-align: top;\n",
       "    }\n",
       "\n",
       "    .dataframe thead th {\n",
       "        text-align: right;\n",
       "    }\n",
       "</style>\n",
       "<table border=\"1\" class=\"dataframe\">\n",
       "  <thead>\n",
       "    <tr style=\"text-align: right;\">\n",
       "      <th></th>\n",
       "      <th>name</th>\n",
       "      <th>ingredients</th>\n",
       "    </tr>\n",
       "  </thead>\n",
       "  <tbody>\n",
       "    <tr>\n",
       "      <th>0</th>\n",
       "      <td>Balu shahi</td>\n",
       "      <td>Maida flour, yogurt, oil, sugar</td>\n",
       "    </tr>\n",
       "    <tr>\n",
       "      <th>1</th>\n",
       "      <td>Boondi</td>\n",
       "      <td>Gram flour, ghee, sugar</td>\n",
       "    </tr>\n",
       "    <tr>\n",
       "      <th>2</th>\n",
       "      <td>Gajar ka halwa</td>\n",
       "      <td>Carrots, milk, sugar, ghee, cashews, raisins</td>\n",
       "    </tr>\n",
       "    <tr>\n",
       "      <th>3</th>\n",
       "      <td>Ghevar</td>\n",
       "      <td>Flour, ghee, kewra, milk, clarified butter, su...</td>\n",
       "    </tr>\n",
       "    <tr>\n",
       "      <th>4</th>\n",
       "      <td>Gulab jamun</td>\n",
       "      <td>Milk powder, plain flour, baking powder, ghee,...</td>\n",
       "    </tr>\n",
       "  </tbody>\n",
       "</table>\n",
       "</div>"
      ],
      "text/plain": [
       "             name                                        ingredients\n",
       "0      Balu shahi                    Maida flour, yogurt, oil, sugar\n",
       "1          Boondi                            Gram flour, ghee, sugar\n",
       "2  Gajar ka halwa       Carrots, milk, sugar, ghee, cashews, raisins\n",
       "3          Ghevar  Flour, ghee, kewra, milk, clarified butter, su...\n",
       "4     Gulab jamun  Milk powder, plain flour, baking powder, ghee,..."
      ]
     },
     "execution_count": 29,
     "metadata": {},
     "output_type": "execute_result"
    }
   ],
   "source": [
    "df = pd.read_csv('food_250.csv', usecols=['name', 'ingredients'])\n",
    "df.head()"
   ]
  },
  {
   "cell_type": "code",
   "execution_count": 34,
   "metadata": {
    "id": "OxQtDhIP3-5-"
   },
   "outputs": [],
   "source": [
    "items = set()\n",
    "for x in df.ingredients:\n",
    "    for val in x.split(', '):\n",
    "        items.add(val.lower().strip())\n",
    "    # break\n",
    "items = sorted(items)"
   ]
  },
  {
   "cell_type": "code",
   "execution_count": 52,
   "metadata": {
    "colab": {
     "base_uri": "https://localhost:8080/"
    },
    "id": "XUN0H8Ls4Rgo",
    "outputId": "0ca2c901-d8c1-4611-8268-43df43a95d7d"
   },
   "outputs": [
    {
     "data": {
      "text/plain": [
       "255"
      ]
     },
     "execution_count": 52,
     "metadata": {},
     "output_type": "execute_result"
    }
   ],
   "source": [
    "LEN_ITEMS = len(items)\n",
    "LEN_RECIPES = df.shape[0]\n",
    "\n",
    "LEN_RECIPES"
   ]
  },
  {
   "cell_type": "code",
   "execution_count": 97,
   "metadata": {},
   "outputs": [],
   "source": [
    "new_df = pd.DataFrame(data=np.zeros((LEN_RECIPES, LEN_ITEMS + 2), dtype=int), columns=['name', 'ingredients'] + list(items))"
   ]
  },
  {
   "cell_type": "code",
   "execution_count": 98,
   "metadata": {},
   "outputs": [],
   "source": [
    "for i, d in df.iterrows():\n",
    "    new_df.loc[i, 'name'] = d[0]\n",
    "    new_df.loc[i, 'ingredients'] = d[1]\n",
    "    \n",
    "    for val in d[1].split(', '):\n",
    "        item = val.lower().strip()\n",
    "        new_df.loc[i, item] = 1\n",
    "    "
   ]
  },
  {
   "cell_type": "code",
   "execution_count": 99,
   "metadata": {},
   "outputs": [
    {
     "data": {
      "text/html": [
       "<div>\n",
       "<style scoped>\n",
       "    .dataframe tbody tr th:only-of-type {\n",
       "        vertical-align: middle;\n",
       "    }\n",
       "\n",
       "    .dataframe tbody tr th {\n",
       "        vertical-align: top;\n",
       "    }\n",
       "\n",
       "    .dataframe thead th {\n",
       "        text-align: right;\n",
       "    }\n",
       "</style>\n",
       "<table border=\"1\" class=\"dataframe\">\n",
       "  <thead>\n",
       "    <tr style=\"text-align: right;\">\n",
       "      <th></th>\n",
       "      <th>name</th>\n",
       "      <th>ingredients</th>\n",
       "      <th>all purpose flour</th>\n",
       "      <th>almond</th>\n",
       "      <th>almonds</th>\n",
       "      <th>aloo</th>\n",
       "      <th>alum powder</th>\n",
       "      <th>amaranth leaves</th>\n",
       "      <th>amchur powder</th>\n",
       "      <th>apricots</th>\n",
       "      <th>...</th>\n",
       "      <th>whole urad dal</th>\n",
       "      <th>whole wheat bread</th>\n",
       "      <th>whole wheat flour</th>\n",
       "      <th>whole wheat rava</th>\n",
       "      <th>wild mushrooms</th>\n",
       "      <th>wine vinegar</th>\n",
       "      <th>yellow moong daal</th>\n",
       "      <th>yellow mustard</th>\n",
       "      <th>yoghurt</th>\n",
       "      <th>yogurt</th>\n",
       "    </tr>\n",
       "  </thead>\n",
       "  <tbody>\n",
       "    <tr>\n",
       "      <th>0</th>\n",
       "      <td>Balu shahi</td>\n",
       "      <td>Maida flour, yogurt, oil, sugar</td>\n",
       "      <td>0</td>\n",
       "      <td>0</td>\n",
       "      <td>0</td>\n",
       "      <td>0</td>\n",
       "      <td>0</td>\n",
       "      <td>0</td>\n",
       "      <td>0</td>\n",
       "      <td>0</td>\n",
       "      <td>...</td>\n",
       "      <td>0</td>\n",
       "      <td>0</td>\n",
       "      <td>0</td>\n",
       "      <td>0</td>\n",
       "      <td>0</td>\n",
       "      <td>0</td>\n",
       "      <td>0</td>\n",
       "      <td>0</td>\n",
       "      <td>0</td>\n",
       "      <td>1</td>\n",
       "    </tr>\n",
       "    <tr>\n",
       "      <th>1</th>\n",
       "      <td>Boondi</td>\n",
       "      <td>Gram flour, ghee, sugar</td>\n",
       "      <td>0</td>\n",
       "      <td>0</td>\n",
       "      <td>0</td>\n",
       "      <td>0</td>\n",
       "      <td>0</td>\n",
       "      <td>0</td>\n",
       "      <td>0</td>\n",
       "      <td>0</td>\n",
       "      <td>...</td>\n",
       "      <td>0</td>\n",
       "      <td>0</td>\n",
       "      <td>0</td>\n",
       "      <td>0</td>\n",
       "      <td>0</td>\n",
       "      <td>0</td>\n",
       "      <td>0</td>\n",
       "      <td>0</td>\n",
       "      <td>0</td>\n",
       "      <td>0</td>\n",
       "    </tr>\n",
       "    <tr>\n",
       "      <th>2</th>\n",
       "      <td>Gajar ka halwa</td>\n",
       "      <td>Carrots, milk, sugar, ghee, cashews, raisins</td>\n",
       "      <td>0</td>\n",
       "      <td>0</td>\n",
       "      <td>0</td>\n",
       "      <td>0</td>\n",
       "      <td>0</td>\n",
       "      <td>0</td>\n",
       "      <td>0</td>\n",
       "      <td>0</td>\n",
       "      <td>...</td>\n",
       "      <td>0</td>\n",
       "      <td>0</td>\n",
       "      <td>0</td>\n",
       "      <td>0</td>\n",
       "      <td>0</td>\n",
       "      <td>0</td>\n",
       "      <td>0</td>\n",
       "      <td>0</td>\n",
       "      <td>0</td>\n",
       "      <td>0</td>\n",
       "    </tr>\n",
       "    <tr>\n",
       "      <th>3</th>\n",
       "      <td>Ghevar</td>\n",
       "      <td>Flour, ghee, kewra, milk, clarified butter, su...</td>\n",
       "      <td>0</td>\n",
       "      <td>0</td>\n",
       "      <td>1</td>\n",
       "      <td>0</td>\n",
       "      <td>0</td>\n",
       "      <td>0</td>\n",
       "      <td>0</td>\n",
       "      <td>0</td>\n",
       "      <td>...</td>\n",
       "      <td>0</td>\n",
       "      <td>0</td>\n",
       "      <td>0</td>\n",
       "      <td>0</td>\n",
       "      <td>0</td>\n",
       "      <td>0</td>\n",
       "      <td>0</td>\n",
       "      <td>0</td>\n",
       "      <td>0</td>\n",
       "      <td>0</td>\n",
       "    </tr>\n",
       "    <tr>\n",
       "      <th>4</th>\n",
       "      <td>Gulab jamun</td>\n",
       "      <td>Milk powder, plain flour, baking powder, ghee,...</td>\n",
       "      <td>0</td>\n",
       "      <td>0</td>\n",
       "      <td>0</td>\n",
       "      <td>0</td>\n",
       "      <td>0</td>\n",
       "      <td>0</td>\n",
       "      <td>0</td>\n",
       "      <td>0</td>\n",
       "      <td>...</td>\n",
       "      <td>0</td>\n",
       "      <td>0</td>\n",
       "      <td>0</td>\n",
       "      <td>0</td>\n",
       "      <td>0</td>\n",
       "      <td>0</td>\n",
       "      <td>0</td>\n",
       "      <td>0</td>\n",
       "      <td>0</td>\n",
       "      <td>0</td>\n",
       "    </tr>\n",
       "  </tbody>\n",
       "</table>\n",
       "<p>5 rows × 367 columns</p>\n",
       "</div>"
      ],
      "text/plain": [
       "             name                                        ingredients  \\\n",
       "0      Balu shahi                    Maida flour, yogurt, oil, sugar   \n",
       "1          Boondi                            Gram flour, ghee, sugar   \n",
       "2  Gajar ka halwa       Carrots, milk, sugar, ghee, cashews, raisins   \n",
       "3          Ghevar  Flour, ghee, kewra, milk, clarified butter, su...   \n",
       "4     Gulab jamun  Milk powder, plain flour, baking powder, ghee,...   \n",
       "\n",
       "   all purpose flour  almond  almonds  aloo  alum powder  amaranth leaves  \\\n",
       "0                  0       0        0     0            0                0   \n",
       "1                  0       0        0     0            0                0   \n",
       "2                  0       0        0     0            0                0   \n",
       "3                  0       0        1     0            0                0   \n",
       "4                  0       0        0     0            0                0   \n",
       "\n",
       "   amchur powder  apricots  ...  whole urad dal  whole wheat bread  \\\n",
       "0              0         0  ...               0                  0   \n",
       "1              0         0  ...               0                  0   \n",
       "2              0         0  ...               0                  0   \n",
       "3              0         0  ...               0                  0   \n",
       "4              0         0  ...               0                  0   \n",
       "\n",
       "   whole wheat flour  whole wheat rava  wild mushrooms  wine vinegar  \\\n",
       "0                  0                 0               0             0   \n",
       "1                  0                 0               0             0   \n",
       "2                  0                 0               0             0   \n",
       "3                  0                 0               0             0   \n",
       "4                  0                 0               0             0   \n",
       "\n",
       "   yellow moong daal  yellow mustard  yoghurt  yogurt  \n",
       "0                  0               0        0       1  \n",
       "1                  0               0        0       0  \n",
       "2                  0               0        0       0  \n",
       "3                  0               0        0       0  \n",
       "4                  0               0        0       0  \n",
       "\n",
       "[5 rows x 367 columns]"
      ]
     },
     "execution_count": 99,
     "metadata": {},
     "output_type": "execute_result"
    }
   ],
   "source": [
    "new_df.head()"
   ]
  },
  {
   "cell_type": "code",
   "execution_count": 40,
   "metadata": {},
   "outputs": [
    {
     "data": {
      "text/html": [
       "<div>\n",
       "<style scoped>\n",
       "    .dataframe tbody tr th:only-of-type {\n",
       "        vertical-align: middle;\n",
       "    }\n",
       "\n",
       "    .dataframe tbody tr th {\n",
       "        vertical-align: top;\n",
       "    }\n",
       "\n",
       "    .dataframe thead th {\n",
       "        text-align: right;\n",
       "    }\n",
       "</style>\n",
       "<table border=\"1\" class=\"dataframe\">\n",
       "  <thead>\n",
       "    <tr style=\"text-align: right;\">\n",
       "      <th></th>\n",
       "      <th>name</th>\n",
       "      <th>all purpose flour</th>\n",
       "      <th>almond</th>\n",
       "      <th>almonds</th>\n",
       "      <th>aloo</th>\n",
       "      <th>alum powder</th>\n",
       "      <th>amaranth leaves</th>\n",
       "      <th>amchur powder</th>\n",
       "      <th>apricots</th>\n",
       "      <th>arbi ke patte</th>\n",
       "      <th>...</th>\n",
       "      <th>whole urad dal</th>\n",
       "      <th>whole wheat bread</th>\n",
       "      <th>whole wheat flour</th>\n",
       "      <th>whole wheat rava</th>\n",
       "      <th>wild mushrooms</th>\n",
       "      <th>wine vinegar</th>\n",
       "      <th>yellow moong daal</th>\n",
       "      <th>yellow mustard</th>\n",
       "      <th>yoghurt</th>\n",
       "      <th>yogurt</th>\n",
       "    </tr>\n",
       "  </thead>\n",
       "  <tbody>\n",
       "    <tr>\n",
       "      <th>250</th>\n",
       "      <td>Til Pitha</td>\n",
       "      <td>0</td>\n",
       "      <td>0</td>\n",
       "      <td>0</td>\n",
       "      <td>0</td>\n",
       "      <td>0</td>\n",
       "      <td>0</td>\n",
       "      <td>0</td>\n",
       "      <td>0</td>\n",
       "      <td>0</td>\n",
       "      <td>...</td>\n",
       "      <td>0</td>\n",
       "      <td>0</td>\n",
       "      <td>0</td>\n",
       "      <td>0</td>\n",
       "      <td>0</td>\n",
       "      <td>0</td>\n",
       "      <td>0</td>\n",
       "      <td>0</td>\n",
       "      <td>0</td>\n",
       "      <td>0</td>\n",
       "    </tr>\n",
       "    <tr>\n",
       "      <th>251</th>\n",
       "      <td>Bebinca</td>\n",
       "      <td>1</td>\n",
       "      <td>0</td>\n",
       "      <td>0</td>\n",
       "      <td>0</td>\n",
       "      <td>0</td>\n",
       "      <td>0</td>\n",
       "      <td>0</td>\n",
       "      <td>0</td>\n",
       "      <td>0</td>\n",
       "      <td>...</td>\n",
       "      <td>0</td>\n",
       "      <td>0</td>\n",
       "      <td>0</td>\n",
       "      <td>0</td>\n",
       "      <td>0</td>\n",
       "      <td>0</td>\n",
       "      <td>0</td>\n",
       "      <td>0</td>\n",
       "      <td>0</td>\n",
       "      <td>0</td>\n",
       "    </tr>\n",
       "    <tr>\n",
       "      <th>252</th>\n",
       "      <td>Shufta</td>\n",
       "      <td>0</td>\n",
       "      <td>0</td>\n",
       "      <td>0</td>\n",
       "      <td>0</td>\n",
       "      <td>0</td>\n",
       "      <td>0</td>\n",
       "      <td>0</td>\n",
       "      <td>0</td>\n",
       "      <td>0</td>\n",
       "      <td>...</td>\n",
       "      <td>0</td>\n",
       "      <td>0</td>\n",
       "      <td>0</td>\n",
       "      <td>0</td>\n",
       "      <td>0</td>\n",
       "      <td>0</td>\n",
       "      <td>0</td>\n",
       "      <td>0</td>\n",
       "      <td>0</td>\n",
       "      <td>0</td>\n",
       "    </tr>\n",
       "    <tr>\n",
       "      <th>253</th>\n",
       "      <td>Mawa Bati</td>\n",
       "      <td>1</td>\n",
       "      <td>0</td>\n",
       "      <td>0</td>\n",
       "      <td>0</td>\n",
       "      <td>0</td>\n",
       "      <td>0</td>\n",
       "      <td>0</td>\n",
       "      <td>0</td>\n",
       "      <td>0</td>\n",
       "      <td>...</td>\n",
       "      <td>0</td>\n",
       "      <td>0</td>\n",
       "      <td>0</td>\n",
       "      <td>0</td>\n",
       "      <td>0</td>\n",
       "      <td>0</td>\n",
       "      <td>0</td>\n",
       "      <td>0</td>\n",
       "      <td>0</td>\n",
       "      <td>0</td>\n",
       "    </tr>\n",
       "    <tr>\n",
       "      <th>254</th>\n",
       "      <td>Pinaca</td>\n",
       "      <td>0</td>\n",
       "      <td>0</td>\n",
       "      <td>0</td>\n",
       "      <td>0</td>\n",
       "      <td>0</td>\n",
       "      <td>0</td>\n",
       "      <td>0</td>\n",
       "      <td>0</td>\n",
       "      <td>0</td>\n",
       "      <td>...</td>\n",
       "      <td>0</td>\n",
       "      <td>0</td>\n",
       "      <td>0</td>\n",
       "      <td>0</td>\n",
       "      <td>0</td>\n",
       "      <td>0</td>\n",
       "      <td>0</td>\n",
       "      <td>0</td>\n",
       "      <td>0</td>\n",
       "      <td>0</td>\n",
       "    </tr>\n",
       "  </tbody>\n",
       "</table>\n",
       "<p>5 rows × 366 columns</p>\n",
       "</div>"
      ],
      "text/plain": [
       "          name  all purpose flour  almond  almonds  aloo  alum powder  \\\n",
       "250  Til Pitha                  0       0        0     0            0   \n",
       "251    Bebinca                  1       0        0     0            0   \n",
       "252     Shufta                  0       0        0     0            0   \n",
       "253  Mawa Bati                  1       0        0     0            0   \n",
       "254     Pinaca                  0       0        0     0            0   \n",
       "\n",
       "     amaranth leaves  amchur powder  apricots  arbi ke patte  ...  \\\n",
       "250                0              0         0              0  ...   \n",
       "251                0              0         0              0  ...   \n",
       "252                0              0         0              0  ...   \n",
       "253                0              0         0              0  ...   \n",
       "254                0              0         0              0  ...   \n",
       "\n",
       "     whole urad dal  whole wheat bread  whole wheat flour  whole wheat rava  \\\n",
       "250               0                  0                  0                 0   \n",
       "251               0                  0                  0                 0   \n",
       "252               0                  0                  0                 0   \n",
       "253               0                  0                  0                 0   \n",
       "254               0                  0                  0                 0   \n",
       "\n",
       "     wild mushrooms  wine vinegar  yellow moong daal  yellow mustard  yoghurt  \\\n",
       "250               0             0                  0               0        0   \n",
       "251               0             0                  0               0        0   \n",
       "252               0             0                  0               0        0   \n",
       "253               0             0                  0               0        0   \n",
       "254               0             0                  0               0        0   \n",
       "\n",
       "     yogurt  \n",
       "250       0  \n",
       "251       0  \n",
       "252       0  \n",
       "253       0  \n",
       "254       0  \n",
       "\n",
       "[5 rows x 366 columns]"
      ]
     },
     "execution_count": 40,
     "metadata": {},
     "output_type": "execute_result"
    }
   ],
   "source": [
    "new_df.tail()"
   ]
  },
  {
   "cell_type": "code",
   "execution_count": 33,
   "metadata": {},
   "outputs": [],
   "source": [
    "query = ['bread crumbs', 'paneer']"
   ]
  },
  {
   "cell_type": "code",
   "execution_count": 53,
   "metadata": {},
   "outputs": [
    {
     "data": {
      "text/plain": [
       "array([0, 0, 0, 0, 0, 0, 0, 0, 0, 0, 0, 0, 0, 0, 0, 0, 0, 0, 0, 0, 0, 0,\n",
       "       0, 0, 0, 0, 0, 0, 0, 0, 0, 0, 0, 0, 0, 0, 0, 0, 0, 0, 0, 0, 0, 0,\n",
       "       0, 0, 0, 0, 0, 1, 0, 0, 0, 0, 0, 0, 0, 0, 0, 0, 0, 0, 0, 0, 0, 0,\n",
       "       0, 0, 0, 0, 0, 0, 0, 0, 0, 0, 0, 0, 0, 0, 0, 0, 0, 0, 0, 0, 0, 0,\n",
       "       0, 0, 0, 0, 0, 0, 0, 0, 0, 0, 0, 0, 0, 0, 0, 0, 0, 0, 0, 0, 0, 0,\n",
       "       0, 0, 0, 0, 0, 0, 0, 0, 0, 0, 0, 0, 0, 0, 0, 0, 0, 0, 0, 0, 0, 0,\n",
       "       0, 0, 0, 0, 0, 0, 0, 0, 0, 0, 0, 0, 0, 0, 0, 0, 0, 0, 0, 0, 0, 0,\n",
       "       0, 0, 0, 0, 0, 0, 0, 0, 0, 0, 0, 0, 0, 0, 0, 0, 0, 0, 0, 0, 0, 0,\n",
       "       0, 0, 0, 0, 0, 0, 0, 0, 0, 0, 0, 0, 0, 0, 0, 0, 0, 0, 0, 0, 0, 0,\n",
       "       0, 0, 0, 0, 0, 0, 0, 0, 0, 0, 0, 0, 0, 0, 0, 0, 0, 0, 0, 0, 0, 0,\n",
       "       0, 0, 0, 0, 0, 0, 0, 0, 0, 0, 0, 0, 0, 0, 0, 0, 0, 0, 0, 0, 0, 0,\n",
       "       0, 0, 1, 0, 0, 0, 0, 0, 0, 0, 0, 0, 0, 0, 0, 0, 0, 0, 0, 0, 0, 0,\n",
       "       0, 0, 0, 0, 0, 0, 0, 0, 0, 0, 0, 0, 0, 0, 0, 0, 0, 0, 0, 0, 0, 0,\n",
       "       0, 0, 0, 0, 0, 0, 0, 0, 0, 0, 0, 0, 0, 0, 0, 0, 0, 0, 0, 0, 0, 0,\n",
       "       0, 0, 0, 0, 0, 0, 0, 0, 0, 0, 0, 0, 0, 0, 0, 0, 0, 0, 0, 0, 0, 0,\n",
       "       0, 0, 0, 0, 0, 0, 0, 0, 0, 0, 0, 0, 0, 0, 0, 0, 0, 0, 0, 0, 0, 0,\n",
       "       0, 0, 0, 0, 0, 0, 0, 0, 0, 0, 0, 0, 0])"
      ]
     },
     "execution_count": 53,
     "metadata": {},
     "output_type": "execute_result"
    }
   ],
   "source": [
    "def embed_query(q, it):\n",
    "    embedding = np.zeros((LEN_ITEMS,), dtype=int)\n",
    "    it = np.array(items)\n",
    "    \n",
    "    for q in query:\n",
    "        idx = np.where(q == it)\n",
    "        embedding[idx] = 1\n",
    "\n",
    "    return embedding\n",
    "\n",
    "# embed_query(query, items)"
   ]
  },
  {
   "cell_type": "code",
   "execution_count": 64,
   "metadata": {},
   "outputs": [],
   "source": [
    "emb_qy = embed_query(query, items)\n",
    "sim = cosine_similarity(new_df.iloc[:, 1:].values.reshape(LEN_RECIPES, -1), emb_qy.reshape(1, -1)).ravel()"
   ]
  },
  {
   "cell_type": "code",
   "execution_count": 83,
   "metadata": {},
   "outputs": [
    {
     "name": "stdout",
     "output_type": "stream",
     "text": [
      "Kofta\n",
      "Aloo tikki\n",
      "Paneer butter masala\n",
      "Paneer tikka masala\n"
     ]
    }
   ],
   "source": [
    "idx_sorted = np.argsort(sim)[::-1]\n",
    "# print(idx_sorted)\n",
    "# print(sim[idx_sorted])\n",
    "\n",
    "for val, idx in np.column_stack((sim[idx_sorted], idx_sorted)):\n",
    "#     print(val, idx)\n",
    "    if val > 0:\n",
    "        print(new_df.iloc[int(idx), 0])"
   ]
  },
  {
   "cell_type": "code",
   "execution_count": 93,
   "metadata": {},
   "outputs": [
    {
     "data": {
      "text/plain": [
       "array(['Tomato, curry leaves, garlic, mustard seeds, hot water'],\n",
       "      dtype=object)"
      ]
     },
     "execution_count": 93,
     "metadata": {},
     "output_type": "execute_result"
    }
   ],
   "source": [
    "df.loc[df['name'] == 'Rasam', 'ingredients'].values"
   ]
  },
  {
   "cell_type": "code",
   "execution_count": null,
   "metadata": {
    "id": "BdYiacEE8LwS"
   },
   "outputs": [],
   "source": [
    ".useless = ['axone', 'yogurt', 'wine vinegar', 'whole red', 'whole wheat flour', 'watercress', 'vermicelli pudding',\n",
    "           'vegetable oil', 'tomato', 'tomato paste', 'thick poha', ]\n",
    "useful = ['mushrooms', 'vermicelli', 'poha', ]\n"
   ]
  },
  {
   "cell_type": "code",
   "execution_count": null,
   "metadata": {
    "colab": {
     "base_uri": "https://localhost:8080/"
    },
    "id": "BVqlb6LVkKqP",
    "outputId": "ad7a672b-a0ae-4f0d-bcb6-6396b3054226"
   },
   "outputs": [],
   "source": [
    "items"
   ]
  },
  {
   "cell_type": "code",
   "execution_count": null,
   "metadata": {
    "id": "omOW0gYckbUS"
   },
   "outputs": [],
   "source": [
    "'''\n",
    "250 x 366\n",
    "\n",
    "name potato tomato almonsd\n",
    "halwa 0         0       1\n",
    "\n",
    "\n",
    "\n",
    "q = [sugar, cheese, bread] (365, )\n",
    "= [0, 0, 0, 1, 0, 0, 1, 0, 1]\n",
    "\n",
    "\n",
    "remove = { teaspoon, teaspoons, to, taste }\n",
    "'''"
   ]
  },
  {
   "cell_type": "code",
   "execution_count": null,
   "metadata": {
    "colab": {
     "base_uri": "https://localhost:8080/"
    },
    "id": "t1WokdES2A0v",
    "outputId": "a01dd0fb-0995-42c7-f106-1fe8671e4f2b"
   },
   "outputs": [],
   "source": [
    "import pandas as pd\n",
    "import numpy as np\n",
    "\n",
    "raw = pd.read_excel('/content/IndianFoodDatasetXLS_6000.xlsx')\n",
    "df = raw.copy()\n",
    "\n",
    "columns_to_drop = ['RecipeName', 'Ingredients', 'URL', 'PrepTimeInMins' , 'CookTimeInMins', 'Course',\n",
    "                   'TotalTimeInMins','TranslatedInstructions', 'Instructions', 'Servings', 'Srno', 'Diet']\n",
    "\n",
    "df = df.drop(columns = columns_to_drop).dropna()\n",
    "\n",
    "# data seems to contain more than just indian cuisines, so I drop these\n",
    "cuisines_to_drop = ['Mexican', 'Italian Recipes', 'Thai', 'Chinese', 'Asian', 'Middle Eastern', 'European',\n",
    "                   'Arab', 'Japanese', 'Vietnamese', 'British', 'Greek', 'French', 'Mediterranean', 'Sri Lankan',\n",
    "                   'Indonesian', 'African', 'Korean', 'American', 'Carribbean', 'World Breakfast', 'Malaysian', 'Dessert',\n",
    "                   'Afghan', 'Snack', 'Jewish', 'Brunch', 'Lunch', 'Continental', 'Fusion']\n",
    "\n",
    "# need to drop desserts and breakfasts, as these are much less likely to contain spices\n",
    "# courses_to_drop = ['South Indian Breakfast', 'Snack', 'Appetizer', 'Indian Breakfast', 'Dessert', 'North Indian Breakfast',\n",
    "                #   'World Breakfast', 'Brunch', 'Side Dish']\n",
    "\n",
    "df = df[~df['Cuisine'].isin(cuisines_to_drop)]\n",
    "# df = df[~df['Course'].isin(courses_to_drop)]\n",
    "df.shape"
   ]
  },
  {
   "cell_type": "code",
   "execution_count": null,
   "metadata": {
    "colab": {
     "base_uri": "https://localhost:8080/",
     "height": 197
    },
    "id": "jCHfNreA2J0n",
    "outputId": "cd022bfa-71a0-407a-ff6a-66cb1f26f0c8"
   },
   "outputs": [],
   "source": [
    "df.head()"
   ]
  },
  {
   "cell_type": "code",
   "execution_count": null,
   "metadata": {
    "colab": {
     "base_uri": "https://localhost:8080/"
    },
    "id": "2gGMAbRJ2LPY",
    "outputId": "9093bd25-18d8-4e90-f945-72d4c64edaab"
   },
   "outputs": [],
   "source": [
    "# df = df['TranslatedIngredients']\n",
    "\n",
    "def isEnglish(s):\n",
    "    try:\n",
    "        s.encode(encoding='utf-8').decode('ascii')\n",
    "    except UnicodeDecodeError:\n",
    "        return False\n",
    "    else:\n",
    "        return True\n",
    "\n",
    "#create boolean mask\n",
    "mask = df.loc[:, 'TranslatedIngredients'].apply(isEnglish)\n",
    "df = df[mask].dropna().reset_index(drop=True)\n",
    "\n",
    "df.shape #I see we dropped about 350 entries."
   ]
  },
  {
   "cell_type": "code",
   "execution_count": null,
   "metadata": {
    "colab": {
     "base_uri": "https://localhost:8080/",
     "height": 197
    },
    "id": "-5XC4DhS2rhM",
    "outputId": "4dd3f254-3bd9-42a4-8716-bf3c865ec495"
   },
   "outputs": [],
   "source": [
    "df.head()"
   ]
  },
  {
   "cell_type": "code",
   "execution_count": null,
   "metadata": {
    "id": "7e1C9Llw8f5n"
   },
   "outputs": [],
   "source": [
    "ing_df = df.copy()"
   ]
  },
  {
   "cell_type": "code",
   "execution_count": null,
   "metadata": {
    "colab": {
     "base_uri": "https://localhost:8080/"
    },
    "id": "p40z_TpF3Bze",
    "outputId": "7e8edb1f-ecb0-4682-c17a-024d5cf8421e"
   },
   "outputs": [],
   "source": [
    "for i, row in ing_df.iterrows():\n",
    "    name, ing, _ = row\n",
    "    \n",
    "    print(ing)\n",
    "    ing_df.iloc[i, 1] = clean_ingredients(ing)\n",
    "    break\n"
   ]
  },
  {
   "cell_type": "code",
   "execution_count": null,
   "metadata": {
    "id": "gjxHNaE94ODH"
   },
   "outputs": [],
   "source": [
    "def clean_ingredients(s):\n",
    "    items = ing.split(', ')\n",
    "    filt_items = []\n",
    "    for words in items:\n",
    "        filt_word = ''\n",
    "        for letter in word:\n",
    "            if letter.isalpha() or letter.isspace():\n",
    "                filt_word\n",
    "\n",
    "    return 'Hello'"
   ]
  },
  {
   "cell_type": "code",
   "execution_count": null,
   "metadata": {
    "colab": {
     "base_uri": "https://localhost:8080/"
    },
    "id": "wVLOjAkc8cl_",
    "outputId": "50ab9f14-3f2e-4a9e-ac50-c04891c8794b"
   },
   "outputs": [],
   "source": [
    "import re\n",
    "\n",
    "pattern = r'^[a-zA-Z\\s-]+$'\n",
    "\n",
    "print(re.match(pattern, 'Karela Bitter Gourd Pavakkai - deseeded'))"
   ]
  },
  {
   "cell_type": "code",
   "execution_count": null,
   "metadata": {
    "id": "BUN5uvZ9_JIS"
   },
   "outputs": [],
   "source": []
  }
 ],
 "metadata": {
  "colab": {
   "name": "Foody",
   "provenance": []
  },
  "kernelspec": {
   "display_name": "CurrentEnv",
   "language": "python",
   "name": "env"
  },
  "language_info": {
   "codemirror_mode": {
    "name": "ipython",
    "version": 3
   },
   "file_extension": ".py",
   "mimetype": "text/x-python",
   "name": "python",
   "nbconvert_exporter": "python",
   "pygments_lexer": "ipython3",
   "version": "3.8.4rc1"
  }
 },
 "nbformat": 4,
 "nbformat_minor": 1
}
